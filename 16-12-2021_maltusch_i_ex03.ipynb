{
 "cells": [
  {
   "cell_type": "markdown",
   "id": "e9314e0f",
   "metadata": {},
   "source": [
    "Course: Application of Accelerators WT 21/22  \n",
    "Date: 16.12.2021   \n",
    "Name, Matriculation Number: Ines Maltusch, 314539     \n",
    "\n",
    "<br /> \n",
    "\n",
    "### **Exercise 3** "
   ]
  },
  {
   "cell_type": "markdown",
   "id": "76ffedfc",
   "metadata": {},
   "source": [
    "**Task 11**"
   ]
  },
  {
   "cell_type": "markdown",
   "id": "b563f3a2",
   "metadata": {},
   "source": [
    "Write a python function with the name of \"get\\_rigidity\" to calculate the magnetic rigidity and put your code as usual on your GitHUB and provide the link here. Test your code with the results of the previous exercise!"
   ]
  },
  {
   "cell_type": "code",
   "execution_count": 57,
   "id": "d445d4cd",
   "metadata": {},
   "outputs": [
    {
     "name": "stdout",
     "output_type": "stream",
     "text": [
      "Task 3: magnetic rigidity = 11.89[Tm]\n",
      "Task 4: magnetic rigidity = 7.26[Tm]\n",
      "Task 5: magnetic rigidity = 23352.61[Tm]\n",
      "Task 6: magnetic rigidity = 33.36[Tm]\n"
     ]
    }
   ],
   "source": [
    "import numpy as np\n",
    "\n",
    "ec = 1.60217662*10**(-19)               # in C\n",
    "electr_mass = 9.10938356*10**(-31)      # in kg\n",
    "atomic_unit = 1.660539066*10**(-27)     # u in kg  \n",
    "light_speed = 299792458                 # in m/s\n",
    "\n",
    "si_prefix = {'Y':10**24, 'Z':10**21, 'E':10**18, 'P':10**15, 'T':10**12, 'G':10**9, 'M':10**6, 'K':10**3,\n",
    "             'm':10**-3, 'mü':10**-6, 'n':10**24, 'p':10**-12, 'f':10**-15}\n",
    "\n",
    "\n",
    "def get_rigidity(acc_energy, unit, atom_mass, charge):\n",
    "    for greek_symb in unit:\n",
    "        if 'AMeV' == unit:\n",
    "            kin_energy = acc_energy*round(atom_mass)*si_prefix['M']*ec     # in J\n",
    "        elif 'MeV/u' == unit:\n",
    "            kin_energy = acc_energy*atom_mass*si_prefix ['M']*ec           # in J\n",
    "        elif greek_symb in si_prefix:\n",
    "            kin_energy = acc_energy*si_prefix[greek_symb]*ec               # in J\n",
    "   \n",
    "    E_0 = ((atom_mass*atomic_unit) - (charge * electr_mass))*light_speed**2     # in J\n",
    "    E_tot = kin_energy + E_0\n",
    "    rigidity = round((np.sqrt((E_tot**2-E_0**2))/light_speed)/(charge*ec), 2)     \n",
    "    return rigidity\n",
    "\n",
    "\n",
    "print( 'Task 3: magnetic rigidity = ' + str(get_rigidity(90, 'AMeV', 238.0507826, 28)) + '[Tm]')\n",
    "print( 'Task 4: magnetic rigidity = ' + str(get_rigidity(330, 'MeV/u', 196.966552, 77)) + '[Tm]')\n",
    "print( 'Task 5: magnetic rigidity = ' + str(get_rigidity(7, 'TeV', 1.007276467, 1)) + '[Tm]')\n",
    "print( 'Task 6: magnetic rigidity = ' + str(get_rigidity(10, 'GeV', 0.000548579909, 1)) + '[Tm]')"
   ]
  },
  {
   "cell_type": "markdown",
   "id": "02307809",
   "metadata": {},
   "source": [
    "**Task 12**"
   ]
  },
  {
   "cell_type": "markdown",
   "id": "2cf16a4f",
   "metadata": {},
   "source": [
    "From the accelerator department, you received some data (see the attached data file: 2016-07-11\\_ipm\\_data.txt) from an ionisation beam profile monitor (IPM). Read the file and plot it in blue color on a black grid background. The mark the maximum with a red dot! Code and plot (PNG) as usual on GitHUB.}"
   ]
  },
  {
   "cell_type": "code",
   "execution_count": 58,
   "id": "d44908bb",
   "metadata": {},
   "outputs": [
    {
     "data": {
      "image/png": "[encoded data removed]",
      "text/plain": [
       "<Figure size 432x288 with 1 Axes>"
      ]
     },
     "metadata": {
      "needs_background": "light"
     },
     "output_type": "display_data"
    }
   ],
   "source": [
    "import numpy as np\n",
    "import matplotlib.pyplot as plt\n",
    "\n",
    "filename = '2016-07-11_ipm_data.txt'\n",
    "data = np.genfromtxt(filename)\n",
    "\n",
    "\n",
    "plt.plot(data, linewidth=1, markersize=1)\n",
    "plt.plot((np.where(data == np.amax(data))[0]), np.amax(data), 'ro', markersize=1, label ='maximum')\n",
    "plt.grid(color='k', linewidth=0.5)\n",
    "plt.legend()\n",
    "plt.ylabel('Intensity')\n",
    "plt.xlabel('Distance')\n",
    "plt.savefig('ipm_plot', dpi=200)"
   ]
  }
 ],
 "metadata": {
  "kernelspec": {
   "display_name": "Python 3",
   "language": "python",
   "name": "python3"
  },
  "language_info": {
   "codemirror_mode": {
    "name": "ipython",
    "version": 3
   },
   "file_extension": ".py",
   "mimetype": "text/x-python",
   "name": "python",
   "nbconvert_exporter": "python",
   "pygments_lexer": "ipython3",
   "version": "3.8.8"
  }
 },
 "nbformat": 4,
 "nbformat_minor": 5
}
