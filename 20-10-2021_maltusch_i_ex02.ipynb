{
 "cells": [
  {
   "cell_type": "markdown",
   "id": "e9314e0f",
   "metadata": {},
   "source": [
    "Course: Application of Accelerators WT 21/22  \n",
    "Date: 20.10.2021   \n",
    "Name, Matriculation Number: Ines Maltusch, 314539     \n",
    "\n",
    "<br /> \n",
    "\n",
    "### **Exercise 2** \n",
    "\n",
    "**Task 12**"
   ]
  },
  {
   "cell_type": "code",
   "execution_count": 134,
   "id": "edb44a69",
   "metadata": {},
   "outputs": [
    {
     "name": "stdout",
     "output_type": "stream",
     "text": [
      "Iron has a mass number of 56 , a proton number of 26 and a neutron number of 30 .\n"
     ]
    }
   ],
   "source": [
    "class particle:\n",
    "    def __init__(self, name, mass, charge):\n",
    "        self.name = name\n",
    "        self.mass = mass\n",
    "        self.charge = charge\n",
    "        \n",
    "    def neutrons(self):\n",
    "        N = self.mass - self.charge\n",
    "        return N\n",
    "\n",
    "a = particle('Iron',56,26)\n",
    "\n",
    "print(a.name, 'has a mass number of', a.mass,', a proton number of', a.charge,'and a neutron number of', a.neutrons(), '.')"
   ]
  }
 ],
 "metadata": {
  "kernelspec": {
   "display_name": "Python 3",
   "language": "python",
   "name": "python3"
  },
  "language_info": {
   "codemirror_mode": {
    "name": "ipython",
    "version": 3
   },
   "file_extension": ".py",
   "mimetype": "text/x-python",
   "name": "python",
   "nbconvert_exporter": "python",
   "pygments_lexer": "ipython3",
   "version": "3.8.8"
  }
 },
 "nbformat": 4,
 "nbformat_minor": 5
}
