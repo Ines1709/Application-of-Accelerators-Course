{
 "cells": [
  {
   "cell_type": "markdown",
   "id": "a80d9638",
   "metadata": {},
   "source": [
    "Course: Application of Accelerators WS 20/21  \n",
    "Date: 27.09.2020   \n",
    "Name, Matriculation Number: Ines Maltusch, 314539     \n",
    "\n",
    "<br /> \n",
    "\n",
    "### **Exercise 1** \n",
    "\n",
    "**Task 3**"
   ]
  },
  {
   "cell_type": "markdown",
   "id": "a07f3395",
   "metadata": {},
   "source": [
    "Function, which adds 2+2 :"
   ]
  },
  {
   "cell_type": "code",
   "execution_count": 44,
   "id": "bc4c7a8e",
   "metadata": {},
   "outputs": [
    {
     "name": "stdout",
     "output_type": "stream",
     "text": [
      "4\n"
     ]
    }
   ],
   "source": [
    "def addition(parameter):          # function, named 'addition' with argument 'parameter'\n",
    "    result = 2+2                  # calculation, that 'addition' performs\n",
    "    return result                 # returns the result\n",
    "    \n",
    "print(addition(x))                # calling the function 'addition' and display of the result"
   ]
  },
  {
   "cell_type": "markdown",
   "id": "c2645a3e",
   "metadata": {},
   "source": [
    "Function, which multiples two 3x3 matrices:"
   ]
  },
  {
   "cell_type": "code",
   "execution_count": 46,
   "id": "5f40861f",
   "metadata": {},
   "outputs": [
    {
     "name": "stdout",
     "output_type": "stream",
     "text": [
      "[[ 30  36  42]\n",
      " [ 66  81  96]\n",
      " [102 126 150]]\n"
     ]
    }
   ],
   "source": [
    "import numpy as np                             # import of module numpy\n",
    "\n",
    "def matrix_multiplication(m1, m2):             # function, named 'matrix_multiplication' with arguments 'm1' & 'm2' \n",
    "    m1 = np.array(a)                           # m1 defined as an array of a\n",
    "    m2 = np.array(b)                           # m2 defined as an array of b\n",
    "    result = np.dot(m1, m2)                    # performing the matrix multiplication of m1 and m2\n",
    "    return result                              # returns the result\n",
    "\n",
    "a = [1, 2, 3], [4, 5, 6], [7, 8, 9]            # definition of a\n",
    "b = [1, 2, 3], [4, 5, 6], [7, 8, 9]            # definition of b\n",
    "\n",
    "print(matrix_multiplication(a, b))             # calling the function 'matrix_multiplication' and display of the result"
   ]
  }
 ],
 "metadata": {
  "kernelspec": {
   "display_name": "Python 3",
   "language": "python",
   "name": "python3"
  },
  "language_info": {
   "codemirror_mode": {
    "name": "ipython",
    "version": 3
   },
   "file_extension": ".py",
   "mimetype": "text/x-python",
   "name": "python",
   "nbconvert_exporter": "python",
   "pygments_lexer": "ipython3",
   "version": "3.8.8"
  }
 },
 "nbformat": 4,
 "nbformat_minor": 5
}
